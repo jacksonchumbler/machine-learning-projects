{
 "cells": [
  {
   "cell_type": "markdown",
   "id": "fcf70f84",
   "metadata": {},
   "source": [
    "# Jackson Chumbler\n",
    "## CS460G Assignment II\n",
    "### I'm no Jupyter pro, so it's organized for you to run all cells, then scroll from the top. It gets a little weird if you try to change part I) stuff after running part II) code. My advice is to run all cells above the cell you modify. \n",
    "## Part I) Linear Regression with Gradient Descent\n",
    "### Collect Data:"
   ]
  },
  {
   "cell_type": "code",
   "execution_count": 10,
   "id": "062bb74b",
   "metadata": {},
   "outputs": [],
   "source": [
    "import pandas as pd\n",
    "import numpy as np\n",
    "df = pd.read_csv(\"./data/winequality-red.csv\")"
   ]
  },
  {
   "cell_type": "markdown",
   "id": "fe365bf1",
   "metadata": {},
   "source": [
    "Given this linear regression with multiple x-terms, it may be difficult to determine good starting coefficients. \n",
    "### Test Prediction: "
   ]
  },
  {
   "cell_type": "code",
   "execution_count": 11,
   "id": "6a2634ae",
   "metadata": {},
   "outputs": [],
   "source": [
    "def test_prediction(df: pd.DataFrame, coeffs):\n",
    "    sum_of_difference = 0\n",
    "    mean_squared_error = 0\n",
    "    for i in range(df[\"quality\"].values.size):\n",
    "        true_qual = df[\"quality\"].values[i]\n",
    "        estimated_qual = 0  # calculate using all labels and coeffs\n",
    "        for coef in coeffs:\n",
    "            if coef[0] != 'b0':\n",
    "                estimated_qual += coef[1] * df[coef[0]].values[i]\n",
    "            else:\n",
    "                estimated_qual += coef[1]  # offset\n",
    "        sum_of_difference += (estimated_qual - true_qual)\n",
    "        mean_squared_error += (estimated_qual - true_qual)**2\n",
    "    mean_squared_error /= df[\"quality\"].values.size\n",
    "    avg_distance = sum_of_difference / df[\"quality\"].values.size\n",
    "    return avg_distance, mean_squared_error"
   ]
  },
  {
   "cell_type": "code",
   "execution_count": 12,
   "id": "face1b7f",
   "metadata": {},
   "outputs": [
    {
     "name": "stdout",
     "output_type": "stream",
     "text": [
      "Avg: 84.84038895559719 \n",
      "M.S.E.: 8856.087876032956\n"
     ]
    }
   ],
   "source": [
    "sample_start_coeffs =  [['fixed acidity', 1], \n",
    "                        ['volatile acidity', 1], \n",
    "                        ['citric acid', 1], \n",
    "                        ['residual sugar', 1],\n",
    "                        ['chlorides', 1], \n",
    "                        ['free sulfur dioxide', 1], \n",
    "                        ['total sulfur dioxide', 1],\n",
    "                        ['density', 1],\n",
    "                        ['pH', 1], \n",
    "                        ['sulphates', 1], \n",
    "                        ['alcohol', 1],\n",
    "                        ['b0', 1]]\n",
    "\n",
    "avg, mse = test_prediction(df, sample_start_coeffs)\n",
    "print(\"Avg:\", avg, \"\\nM.S.E.:\", mse)"
   ]
  },
  {
   "cell_type": "markdown",
   "id": "f53da30f",
   "metadata": {},
   "source": [
    "#### There is room for improvement...\n",
    "### Create initial coefficients (optional):"
   ]
  },
  {
   "cell_type": "code",
   "execution_count": 13,
   "id": "7f1cc536",
   "metadata": {},
   "outputs": [],
   "source": [
    "def init_coefficients(df: pd.DataFrame):\n",
    "    label_est_coefficient = []\n",
    "    max_qual = max(df[\"quality\"])\n",
    "    min_qual = min(df[\"quality\"])\n",
    "    indices_at_max_quality = df.loc[df[\"quality\"] == max_qual].index\n",
    "    indices_at_min_quality = df.loc[df[\"quality\"] == min_qual].index\n",
    "    sum_max = 0\n",
    "    sum_min = 0\n",
    "    for label, values in df.iteritems():\n",
    "        if label != \"quality\":\n",
    "            for i in indices_at_max_quality:\n",
    "                sum_max += values[i]\n",
    "            for i in indices_at_min_quality:\n",
    "                sum_min += values[i]\n",
    "            avg_max = sum_max / indices_at_max_quality.size\n",
    "            avg_min = sum_min / indices_at_max_quality.size\n",
    "            estimated_coefficient = (max_qual - min_qual) / (avg_max - avg_min)\n",
    "            estimated_coefficient /= df.columns.size - 1\n",
    "            label_est_coefficient.append([label, estimated_coefficient])\n",
    "    offset, mse = test_prediction(df, label_est_coefficient)\n",
    "    label_est_coefficient.append([\"b0\", offset])\n",
    "    return label_est_coefficient"
   ]
  },
  {
   "cell_type": "code",
   "execution_count": 14,
   "id": "229ab473",
   "metadata": {},
   "outputs": [
    {
     "name": "stdout",
     "output_type": "stream",
     "text": [
      "CPU times: user 34.9 ms, sys: 2.07 ms, total: 36.9 ms\n",
      "Wall time: 36.3 ms\n"
     ]
    }
   ],
   "source": [
    "%%time\n",
    "initial_coeffs = init_coefficients(df)"
   ]
  },
  {
   "cell_type": "code",
   "execution_count": 15,
   "id": "3e08bcd3",
   "metadata": {},
   "outputs": [
    {
     "name": "stdout",
     "output_type": "stream",
     "text": [
      "['fixed acidity', 0.11588977594643322]\n",
      "['volatile acidity', 0.11793611793611804]\n",
      "['citric acid', 0.10952169442230351]\n",
      "['residual sugar', 0.08634708650538948]\n",
      "['chlorides', 0.08634070810892734]\n",
      "['free sulfur dioxide', 0.03656482415163512]\n",
      "['total sulfur dioxide', 0.01418577885127345]\n",
      "['density', 0.013993161740871089]\n",
      "['pH', 0.013423133139502679]\n",
      "['sulphates', 0.013246664859958929]\n",
      "['alcohol', 0.011119604594570195]\n",
      "['b0', -2.9305079926665636]\n",
      "Avg:\n",
      " -5.861015985333127\n",
      "MSE:\n",
      " 35.78898168939132\n"
     ]
    }
   ],
   "source": [
    "for c in initial_coeffs: print(c)\n",
    "                                   \n",
    "avg, mse = test_prediction(df, initial_coeffs)\n",
    "print(\"Avg:\\n\", avg)\n",
    "print(\"MSE:\\n\", mse)\n"
   ]
  },
  {
   "cell_type": "markdown",
   "id": "3d7aa71d",
   "metadata": {},
   "source": [
    "#### These are decent enough starting points. Additionally, it takes hardly any time to preprocess. \n",
    "### Gradient Descent:"
   ]
  },
  {
   "cell_type": "code",
   "execution_count": 16,
   "id": "84af6ab6",
   "metadata": {},
   "outputs": [],
   "source": [
    "def linear_gradient_descent(df: pd.DataFrame, learning_rate: float, epochs: int):\n",
    "    coeffs = init_coefficients(df)  # Preproccessed, \"good\" starting coeffs...\n",
    "    for epoch in range(epochs):\n",
    "        for row in range(df[\"quality\"].values.size):\n",
    "            actual_quality = df[\"quality\"].values[row]\n",
    "            est_quality = 0\n",
    "            for coef in coeffs:\n",
    "                if coef[0] == 'b0':\n",
    "                    est_quality += coef[1]\n",
    "                else:\n",
    "                    est_quality += coef[1] * df[coef[0]].values[row]\n",
    "            difference = (est_quality - actual_quality)\n",
    "            for coef in coeffs:\n",
    "                if coef[0] != 'b0':\n",
    "                    coef[1] -= learning_rate*difference*df[coef[0]].values[row]\n",
    "                else:\n",
    "                    coef[1] -= learning_rate*difference\n",
    "    return coeffs"
   ]
  },
  {
   "cell_type": "code",
   "execution_count": 17,
   "id": "cf186692",
   "metadata": {},
   "outputs": [
    {
     "name": "stdout",
     "output_type": "stream",
     "text": [
      "CPU times: user 3.12 s, sys: 0 ns, total: 3.12 s\n",
      "Wall time: 3.12 s\n"
     ]
    }
   ],
   "source": [
    "%%time\n",
    "coeffs = linear_gradient_descent(df, 0.0001, 50)"
   ]
  },
  {
   "cell_type": "code",
   "execution_count": 18,
   "id": "c8e8640c",
   "metadata": {},
   "outputs": [
    {
     "name": "stdout",
     "output_type": "stream",
     "text": [
      "['fixed acidity', 0.121293566670967]\n",
      "['volatile acidity', 0.0011593755949858772]\n",
      "['citric acid', 0.0921125250544196]\n",
      "['residual sugar', 0.0008321355002057397]\n",
      "['chlorides', 0.08918266666727982]\n",
      "['free sulfur dioxide', 0.0022948909166803253]\n",
      "['total sulfur dioxide', 0.005345077244142281]\n",
      "['density', 0.17043522597329605]\n",
      "['pH', 0.49628314650881056]\n",
      "['sulphates', 0.17531944981683925]\n",
      "['alcohol', 0.49926980955120753]\n",
      "['b0', -2.7727008337553256]\n",
      "Avg: 0.0530831117178739 \n",
      "M.S.E.: 0.5585570132865114\n"
     ]
    }
   ],
   "source": [
    "for c in coeffs: print(c)\n",
    "avg, mse = test_prediction(df, coeffs)\n",
    "print(\"Avg:\", avg, \"\\nM.S.E.:\", mse)"
   ]
  },
  {
   "cell_type": "markdown",
   "id": "bdebc2cf",
   "metadata": {},
   "source": [
    "### Nice! I'm happy with this result for red wine quality.\n",
    "## Part II) Polynomial Regression with Basis Expansion\n",
    "\n",
    "Given a dataset and degree, we first expand the list to the degree number of columns, with each entry on a given row being a higher power."
   ]
  },
  {
   "cell_type": "code",
   "execution_count": 19,
   "id": "272c5f1c",
   "metadata": {},
   "outputs": [],
   "source": [
    "df = pd.read_csv(\"./data/synthetic-1.csv\")\n",
    "name1 = \"synthetic-1\"\n",
    "df2 = pd.read_csv(\"./data/synthetic-2.csv\")\n",
    "name2 = \"synthetic-2\""
   ]
  },
  {
   "cell_type": "code",
   "execution_count": 20,
   "id": "52db7d1d",
   "metadata": {},
   "outputs": [],
   "source": [
    "def basis_expansion(df: pd.DataFrame, degree):\n",
    "    x_vals = list(df[\"x^1\"])\n",
    "    length = len(x_vals)\n",
    "    mat = np.zeros((length, degree))\n",
    "    for i in range(1, degree):\n",
    "        tmp_arr = []\n",
    "        for j in range(length):\n",
    "            mat[j, i] = x_vals[j]**(i+1)\n",
    "            tmp_arr.append(x_vals[j]**(i+1))\n",
    "        label = \"x^\" + str(i+1)\n",
    "        df[label] = tmp_arr\n",
    "    return mat"
   ]
  },
  {
   "cell_type": "code",
   "execution_count": 21,
   "id": "88f807c8",
   "metadata": {},
   "outputs": [
    {
     "name": "stdout",
     "output_type": "stream",
     "text": [
      "         x^1       x^2       x^3          y\n",
      "0  -1.432358  2.051651 -2.938699  -5.781773\n",
      "1  -1.841921  3.392674 -6.249040   7.088909\n",
      "2   0.910690  0.829356  0.755286   2.063854\n",
      "3   0.615379  0.378691  0.233039   2.741106\n",
      "4  -1.332610  1.775851 -2.366517  -8.075139\n",
      "..       ...       ...       ...        ...\n",
      "95 -1.050631  1.103826 -1.159713 -11.906719\n",
      "96  1.873018  3.508197  6.570916  -5.772424\n",
      "97 -0.144054  0.020752 -0.002989  -3.442860\n",
      "98 -0.656899  0.431517 -0.283463 -13.829974\n",
      "99 -1.844241  3.401226 -6.272681   2.275191\n",
      "\n",
      "[100 rows x 4 columns]\n"
     ]
    }
   ],
   "source": [
    "basis_expansion(df, 3)\n",
    "df = df.reindex(columns=[\"x^1\", \"x^2\", \"x^3\", \"y\"])\n",
    "print(df)"
   ]
  },
  {
   "cell_type": "code",
   "execution_count": 22,
   "id": "e3f53249",
   "metadata": {},
   "outputs": [],
   "source": [
    "def test_polynomial(df: pd.DataFrame, poly):\n",
    "\n",
    "    sum_of_difference = 0\n",
    "    mean_squared_error = 0\n",
    "\n",
    "    for i in range(df[\"y\"].values.size):\n",
    "        actual_y = df[\"y\"].values[i]\n",
    "        y_hat = predict_y(df[\"x^1\"].values[i], poly)\n",
    "\n",
    "        sum_of_difference += (y_hat - actual_y)\n",
    "        mean_squared_error += (y_hat - actual_y)**2\n",
    "    mean_squared_error /= df[\"y\"].values.size\n",
    "    avg_dist = sum_of_difference / df[\"y\"].values.size\n",
    "\n",
    "    return avg_dist, mean_squared_error\n",
    "def test_prediction(df: pd.DataFrame, coeffs):\n",
    "    sum_of_difference = 0\n",
    "    mean_squared_error = 0\n",
    "    for i in range(df[\"y\"].values.size):\n",
    "        true_qual = df[\"y\"].values[i]\n",
    "        estimated_qual = 0  # calculate using all labels and coeffs\n",
    "        for coef in coeffs:\n",
    "            if coef[0] != 'b0':\n",
    "                estimated_qual += coef[1] * df[coef[0]].values[i]\n",
    "            else:\n",
    "                estimated_qual += coef[1]\n",
    "        sum_of_difference += (estimated_qual - true_qual)\n",
    "        mean_squared_error += (estimated_qual - true_qual)**2\n",
    "    mean_squared_error /= df[\"y\"].values.size\n",
    "    avg_distance = sum_of_difference / df[\"y\"].values.size\n",
    "    return avg_distance, mean_squared_error"
   ]
  },
  {
   "cell_type": "code",
   "execution_count": 23,
   "id": "cc01569f",
   "metadata": {},
   "outputs": [],
   "source": [
    "def linear_gradient_descent(df: pd.DataFrame, learning_rate: float, epochs: int, degree: int):\n",
    "    # Fill coeffs arr with correct names\n",
    "    coeffs = []\n",
    "    for i in range(1, degree + 1):\n",
    "        name = \"x^\" + str(i)\n",
    "        coeffs.append([name, 0])\n",
    "    offset, blah = test_prediction(df, coeffs)\n",
    "    coeffs.append([\"b0\", offset])\n",
    "\n",
    "    for epoch in range(epochs):\n",
    "        for row in range(df[\"y\"].values.size):\n",
    "            actual_quality = df[\"y\"].values[row]\n",
    "            est_quality = 0\n",
    "            for coef in coeffs:\n",
    "                if coef[0] == 'b0':\n",
    "                    est_quality += coef[1]\n",
    "                else:\n",
    "                    est_quality += coef[1] * df[coef[0]].values[row]\n",
    "            difference = (est_quality - actual_quality)\n",
    "            for coef in coeffs:\n",
    "                if coef[0] != 'b0':\n",
    "                    coef[1] -= learning_rate*difference*df[coef[0]].values[row]\n",
    "                else:\n",
    "                    coef[1] -= learning_rate*difference\n",
    "    return coeffs"
   ]
  },
  {
   "cell_type": "code",
   "execution_count": 24,
   "id": "c20880f4",
   "metadata": {},
   "outputs": [
    {
     "name": "stdout",
     "output_type": "stream",
     "text": [
      "['x^1', 7.021111907015874]\n",
      "['x^2', 0.4387153741267049]\n",
      "['x^3', -2.3679560510179902]\n",
      "['b0', -3.393322248332351]\n"
     ]
    }
   ],
   "source": [
    "coeffs = linear_gradient_descent(df, 0.001, 50, 3)\n",
    "for c in coeffs: print(c)"
   ]
  },
  {
   "cell_type": "code",
   "execution_count": 25,
   "id": "804299e3",
   "metadata": {},
   "outputs": [],
   "source": [
    "def predict_y(x, poly):\n",
    "    y_hat = poly[0]\n",
    "    for i in range(1, len(poly)):\n",
    "        y_hat += poly[i]*(x**i)\n",
    "    return y_hat\n",
    "\n",
    "def test_polynomial(df: pd.DataFrame, poly):\n",
    "\n",
    "    sum_of_difference = 0\n",
    "    mean_squared_error = 0\n",
    "\n",
    "    for i in range(df[\"y\"].values.size):\n",
    "        actual_y = df[\"y\"].values[i]\n",
    "        y_hat = predict_y(df[\"x^1\"].values[i], poly)\n",
    "\n",
    "        sum_of_difference += (y_hat - actual_y)\n",
    "        mean_squared_error += (y_hat - actual_y)**2\n",
    "    mean_squared_error /= df[\"y\"].values.size\n",
    "    avg_dist = sum_of_difference / df[\"y\"].values.size\n",
    "\n",
    "    return avg_dist, mean_squared_error\n",
    "\n",
    "    return avg_dist, mean_squared_error\n",
    "\n",
    "def coeffs_to_poly(mat):\n",
    "    poly = []\n",
    "    poly.append(mat[-1][1])\n",
    "    for x in mat:\n",
    "        if x[0] != \"y\" and x[0] != 'b0':\n",
    "            poly.append(x[1])\n",
    "    return poly"
   ]
  },
  {
   "cell_type": "code",
   "execution_count": 26,
   "id": "1438b1d9",
   "metadata": {},
   "outputs": [
    {
     "name": "stdout",
     "output_type": "stream",
     "text": [
      "Avg:\n",
      " 0.2884808180174814\n",
      "M.S.E.:\n",
      " 12.869991654110445\n"
     ]
    }
   ],
   "source": [
    "poly = coeffs_to_poly(coeffs)\n",
    "avg, mse = test_polynomial(df, poly)\n",
    "print(\"Avg:\\n\",avg)\n",
    "print(\"M.S.E.:\\n\",mse)"
   ]
  },
  {
   "cell_type": "code",
   "execution_count": 37,
   "id": "91c0d9b2",
   "metadata": {},
   "outputs": [],
   "source": [
    "# Mess With Parameters in this cell\n",
    "#df = pd.read_csv(\"./data/synthetic-1.csv\")\n",
    "#name = \"synthetic-1\"\n",
    "\n",
    "df = pd.read_csv(\"./data/synthetic-2.csv\")\n",
    "name = \"synthetic-2\"\n",
    "\n",
    "degree = 7\n",
    "learn_rate = .0001\n",
    "epochs = 20000"
   ]
  },
  {
   "cell_type": "code",
   "execution_count": 38,
   "id": "c34e464a",
   "metadata": {},
   "outputs": [
    {
     "name": "stdout",
     "output_type": "stream",
     "text": [
      "Avg:\n",
      " 0.025066623659615886\n",
      "M.S.E.:\n",
      " 0.07359041535963201\n",
      "['x^1', -0.06177436396203654]\n",
      "['x^2', 2.467398955014368]\n",
      "['x^3', 0.2752308519026729]\n",
      "['x^4', -2.2924103743326354]\n",
      "['x^5', -0.2570434591099155]\n",
      "['x^6', 0.4604141979095618]\n",
      "['x^7', 0.05041601340514531]\n",
      "['b0', 0.04613410410633992]\n",
      "CPU times: user 49.8 s, sys: 0 ns, total: 49.8 s\n",
      "Wall time: 49.8 s\n"
     ]
    }
   ],
   "source": [
    "%%time \n",
    "# expect 99% of the time from gradient descent\n",
    "basis_expansion(df, degree)\n",
    "coeffs = linear_gradient_descent(df, learn_rate, epochs, degree)\n",
    "poly = coeffs_to_poly(coeffs)\n",
    "avg, mse = test_polynomial(df, poly)\n",
    "print(\"Avg:\\n\",avg)\n",
    "print(\"M.S.E.:\\n\",mse)\n",
    "for c in coeffs: print(c)"
   ]
  },
  {
   "cell_type": "markdown",
   "id": "e83a1785",
   "metadata": {},
   "source": [
    "## Part III) Graphing"
   ]
  },
  {
   "cell_type": "code",
   "execution_count": 39,
   "id": "b3a27974",
   "metadata": {},
   "outputs": [],
   "source": [
    "import matplotlib.colors as colors\n",
    "import matplotlib.pyplot as plt\n",
    "from matplotlib import cm \n",
    "\n",
    "def plot(df, poly, deg, name:str):\n",
    "    \n",
    "    x = df[\"x^1\"].values\n",
    "    y = df[\"y\"].values\n",
    "    min_dist = float('inf')\n",
    "    max_dist = 0\n",
    "    y_predict_l = []\n",
    "    x1 = np.sort(x)\n",
    "    color_arr = []\n",
    "    for x_val in x1:\n",
    "        yhat = poly[0]\n",
    "        for i in range(1, len(poly)):\n",
    "            yhat += poly[i]*(x_val**i)\n",
    "        \n",
    "        y_act = 0\n",
    "        y_predict_l.append(yhat)\n",
    "        for i in range(df[\"x^1\"].values.size):\n",
    "            if df[\"x^1\"].values[i] == x_val:\n",
    "                y_act = df[\"y\"].values[i]\n",
    "                break\n",
    "        diff = y_act - yhat\n",
    "        \n",
    "        color_arr.append(abs(diff)) \n",
    "        if abs(diff) < min_dist:\n",
    "            min_dist = abs(diff)\n",
    "        elif abs(diff) > max_dist:\n",
    "            max_dist = abs(diff)\n",
    "        \n",
    "    norm = colors.Normalize(vmin=min_dist, vmax=max_dist,clip=True)\n",
    "    mapper = cm.ScalarMappable(norm=norm, cmap=cm.get_cmap(\"cool\"))\n",
    "    for c in range(len(color_arr)):\n",
    "        color_arr[c] = mapper.to_rgba(color_arr[c])\n",
    "    fig, ax = plt.subplots()\n",
    "    ax.plot(x1, y_predict_l, color=\"purple\")\n",
    "    \n",
    "    df = df.sort_values(by='x^1')\n",
    "    x = df[\"x^1\"].values\n",
    "    y = df[\"y\"].values\n",
    "    ax.scatter(x,y,color=color_arr)\n",
    "    \n",
    "    ax.set_xlabel(\"x values\")\n",
    "    ax.set_ylabel(\"y values\")\n",
    "    title = name + \", deg=\" + str(deg)\n",
    "    ax.set_title(title)\n",
    "    \n",
    "    plt.show()"
   ]
  },
  {
   "cell_type": "code",
   "execution_count": 40,
   "id": "4b2584a6",
   "metadata": {},
   "outputs": [
    {
     "data": {
      "image/png": "[encoded data removed]",
      "text/plain": [
       "<Figure size 432x288 with 1 Axes>"
      ]
     },
     "metadata": {
      "needs_background": "light"
     },
     "output_type": "display_data"
    }
   ],
   "source": [
    "plot(df, poly, degree, name)\n",
    "#change which df is commented above, and rerun this cell\n"
   ]
  },
  {
   "cell_type": "markdown",
   "id": "ed87fcb7",
   "metadata": {},
   "source": [
    "Above, we see our scatterplot with the polynomial regression curve. Points get darker the further they are from the curve. "
   ]
  }
 ],
 "metadata": {
  "kernelspec": {
   "display_name": "Python 3 (ipykernel)",
   "language": "python",
   "name": "python3"
  },
  "language_info": {
   "codemirror_mode": {
    "name": "ipython",
    "version": 3
   },
   "file_extension": ".py",
   "mimetype": "text/x-python",
   "name": "python",
   "nbconvert_exporter": "python",
   "pygments_lexer": "ipython3",
   "version": "3.9.7"
  }
 },
 "nbformat": 4,
 "nbformat_minor": 5
}
